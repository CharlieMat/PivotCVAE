{
 "cells": [
  {
   "cell_type": "markdown",
   "metadata": {},
   "source": [
    "## 1. Real-world Datasets\n",
    "\n",
    "* Yoochoose\n",
    "* MovieLens"
   ]
  },
  {
   "cell_type": "markdown",
   "metadata": {},
   "source": [
    "### 1.1 Preprocess Yoochoose\n",
    "\n",
    "Preprocessing:"
   ]
  },
  {
   "cell_type": "code",
   "execution_count": 1,
   "metadata": {},
   "outputs": [
    {
     "name": "stdout",
     "output_type": "stream",
     "text": [
      "Original feature shape\n",
      "Train: (273557, 5)\n",
      "Val: (14398, 5)\n",
      "Test: (15155, 5)\n",
      "Unique items: 2\n",
      "Unique users: 206036\n"
     ]
    },
    {
     "name": "stderr",
     "output_type": "stream",
     "text": [
      " 12%|█▏        | 30234/248999 [00:00<00:00, 302294.88it/s]"
     ]
    },
    {
     "name": "stdout",
     "output_type": "stream",
     "text": [
      "New feature shape\n",
      "Train: (248999, 5)\n",
      "Val: (26966, 5)\n",
      "Test: (27145, 5)\n"
     ]
    },
    {
     "name": "stderr",
     "output_type": "stream",
     "text": [
      "100%|██████████| 248999/248999 [00:00<00:00, 260949.81it/s]\n",
      "100%|██████████| 248999/248999 [00:00<00:00, 855239.56it/s]\n",
      "100%|██████████| 26966/26966 [00:00<00:00, 257750.74it/s]\n",
      "100%|██████████| 26966/26966 [00:00<00:00, 807381.14it/s]\n",
      "100%|██████████| 27145/27145 [00:00<00:00, 243322.27it/s]\n",
      "100%|██████████| 27145/27145 [00:00<00:00, 750973.77it/s]\n"
     ]
    },
    {
     "name": "stdout",
     "output_type": "stream",
     "text": [
      "Unique items: 10098\n",
      "Unique users: 206036\n"
     ]
    }
   ],
   "source": [
    "# encode user(sessions) and items\n",
    "from data_extract import encode_yoochoose\n",
    "encode_yoochoose()"
   ]
  },
  {
   "cell_type": "code",
   "execution_count": 2,
   "metadata": {},
   "outputs": [
    {
     "name": "stderr",
     "output_type": "stream",
     "text": [
      "\r",
      "  0%|          | 0/34428 [00:00<?, ?it/s]"
     ]
    },
    {
     "name": "stdout",
     "output_type": "stream",
     "text": [
      "Before augmentation: \n",
      "(array([0., 1., 2., 3., 4., 5.]), array([26673, 95529, 70332, 35962, 15486,  5017]))\n",
      "Augmenting data for #click == 0\n",
      "Number of new record: 34428\n"
     ]
    },
    {
     "name": "stderr",
     "output_type": "stream",
     "text": [
      "100%|██████████| 34428/34428 [00:00<00:00, 106584.00it/s]\n",
      "0it [00:00, ?it/s]\n",
      "100%|██████████| 12598/12598 [00:00<00:00, 90250.16it/s]\n",
      "  0%|          | 0/29783 [00:00<?, ?it/s]"
     ]
    },
    {
     "name": "stdout",
     "output_type": "stream",
     "text": [
      "Augmenting data for #click == 1\n",
      "Number of new record: 0\n",
      "Augmenting data for #click == 2\n",
      "Number of new record: 12598\n",
      "Augmenting data for #click == 3\n",
      "Number of new record: 29783\n"
     ]
    },
    {
     "name": "stderr",
     "output_type": "stream",
     "text": [
      "100%|██████████| 29783/29783 [00:00<00:00, 93999.37it/s]\n",
      " 25%|██▍       | 9808/40021 [00:00<00:00, 98066.53it/s]"
     ]
    },
    {
     "name": "stdout",
     "output_type": "stream",
     "text": [
      "Augmenting data for #click == 4\n",
      "Number of new record: 40021\n"
     ]
    },
    {
     "name": "stderr",
     "output_type": "stream",
     "text": [
      "100%|██████████| 40021/40021 [00:00<00:00, 101074.47it/s]\n",
      " 28%|██▊       | 12675/45256 [00:00<00:00, 126732.29it/s]"
     ]
    },
    {
     "name": "stdout",
     "output_type": "stream",
     "text": [
      "Augmenting data for #click == 5\n",
      "Number of new record: 45256\n"
     ]
    },
    {
     "name": "stderr",
     "output_type": "stream",
     "text": [
      "100%|██████████| 45256/45256 [00:00<00:00, 133948.55it/s]\n"
     ]
    },
    {
     "name": "stdout",
     "output_type": "stream",
     "text": [
      "After augmentation: \n",
      "(array([0., 1., 2., 3., 4., 5.]), array([61101, 95529, 82930, 65745, 55507, 50273]))\n"
     ]
    }
   ],
   "source": [
    "# balance number of click\n",
    "from data_extract import balance_n_click, DATA_ROOT\n",
    "import pickle\n",
    "train = pickle.load(open(DATA_ROOT + \"yoochoose-data/encoded_train.pkl\", 'rb'))\n",
    "slates, users, responses = balance_n_click(train[\"features\"], train[\"sessions\"], train[\"responses\"])\n",
    "pickle.dump({\"features\": slates, \"sessions\": users, \"responses\": responses}, \\\n",
    "            open(DATA_ROOT + \"yoochoose-data/encoded_train.pkl\", 'wb'))"
   ]
  },
  {
   "cell_type": "code",
   "execution_count": 3,
   "metadata": {},
   "outputs": [],
   "source": [
    "# construct single dataset 'entire' for training response model\n",
    "import pickle\n",
    "train = pickle.load(open(DATA_ROOT + \"yoochoose-data/encoded_train.pkl\", 'rb'))\n",
    "val = pickle.load(open(DATA_ROOT + \"yoochoose-data/encoded_val.pkl\", 'rb'))\n",
    "test = pickle.load(open(DATA_ROOT + \"yoochoose-data/encoded_test.pkl\", 'rb'))\n",
    "import numpy as np\n",
    "pickle.dump({\"features\": np.concatenate([train[\"features\"], val[\"features\"], test[\"features\"]], axis = 0), \\\n",
    "             \"sessions\": np.concatenate([train[\"sessions\"], val[\"sessions\"], test[\"sessions\"]], axis = 0), \\\n",
    "             \"responses\": np.concatenate([train[\"responses\"], val[\"responses\"], test[\"responses\"]], axis = 0)}, \\\n",
    "            open(DATA_ROOT + \"yoochoose-data/encoded_entire.pkl\", 'wb'))"
   ]
  },
  {
   "cell_type": "markdown",
   "metadata": {},
   "source": [
    "### 1.2 MovieLens\n",
    "\n",
    "Preprocessing: balance_n_click"
   ]
  },
  {
   "cell_type": "code",
   "execution_count": 1,
   "metadata": {},
   "outputs": [
    {
     "name": "stderr",
     "output_type": "stream",
     "text": [
      "2393it [00:00, 229327.34it/s]\n",
      "2393it [00:00, 880127.10it/s]\n",
      "2393it [00:00, 299978.17it/s]\n",
      "19633it [00:00, 261842.25it/s]\n",
      "19633it [00:00, 957888.15it/s]\n",
      "0it [00:00, ?it/s]"
     ]
    },
    {
     "name": "stdout",
     "output_type": "stream",
     "text": [
      "Load data from \"../data/movielens/test_slate.csv\"\n",
      "Load data from \"../data/movielens/test_user.csv\"\n",
      "Load data from \"../data/movielens/test_resp.csv\"\n",
      "Load data from \"../data/movielens/entire_slate.csv\"\n",
      "Load data from \"../data/movielens/entire_user.csv\"\n",
      "Load data from \"../data/movielens/entire_resp.csv\"\n"
     ]
    },
    {
     "name": "stderr",
     "output_type": "stream",
     "text": [
      "19633it [00:00, 297788.18it/s]\n"
     ]
    },
    {
     "name": "stdout",
     "output_type": "stream",
     "text": [
      "dir \"results\" existed\n"
     ]
    },
    {
     "data": {
      "image/png": "[encoded data removed]",
      "text/plain": [
       "<Figure size 720x288 with 1 Axes>"
      ]
     },
     "metadata": {
      "needs_background": "light"
     },
     "output_type": "display_data"
    }
   ],
   "source": [
    "import data_extract as dae\n",
    "trainset, valset = dae.read_movielens(entire = True)\n",
    "from plot import plot_slate_response_distribution\n",
    "%matplotlib inline\n",
    "plot_slate_response_distribution(trainset[\"responses\"])"
   ]
  },
  {
   "cell_type": "code",
   "execution_count": 3,
   "metadata": {},
   "outputs": [
    {
     "name": "stderr",
     "output_type": "stream",
     "text": [
      "100%|██████████| 1173/1173 [00:00<00:00, 62536.30it/s]\n",
      "100%|██████████| 811/811 [00:00<00:00, 64843.89it/s]\n",
      "100%|██████████| 312/312 [00:00<00:00, 61704.21it/s]\n",
      "0it [00:00, ?it/s]\n",
      "100%|██████████| 67/67 [00:00<00:00, 52962.38it/s]\n",
      "100%|██████████| 614/614 [00:00<00:00, 55594.47it/s]"
     ]
    },
    {
     "name": "stdout",
     "output_type": "stream",
     "text": [
      "Before augmentation: \n",
      "(array([0, 1, 2, 3, 4, 5]), array([1919, 2642, 3640, 4265, 4131, 3036]))\n",
      "Augmenting data for #click == 0\n",
      "Number of new record: 1173\n",
      "Augmenting data for #click == 1\n",
      "Number of new record: 811\n",
      "Augmenting data for #click == 2\n",
      "Number of new record: 312\n",
      "Augmenting data for #click == 3\n",
      "Number of new record: 0\n",
      "Augmenting data for #click == 4\n",
      "Number of new record: 67\n",
      "Augmenting data for #click == 5\n",
      "Number of new record: 614\n",
      "After augmentation: \n",
      "(array([0., 1., 2., 3., 4., 5.]), array([3092, 3453, 3952, 4265, 4198, 3650]))\n"
     ]
    },
    {
     "name": "stderr",
     "output_type": "stream",
     "text": [
      "\n"
     ]
    }
   ],
   "source": [
    "from data_extract import balance_n_click\n",
    "slates, users, responses = balance_n_click(trainset[\"features\"], trainset[\"sessions\"], trainset[\"responses\"])"
   ]
  },
  {
   "cell_type": "markdown",
   "metadata": {},
   "source": [
    "## 2. Simulation Environments\n",
    "\n",
    "Recommendation test environment is provided as user response model p(r|s):\n",
    "\n",
    "* urm: plain user response model\n",
    "* urm_p: urm with item positional bias\n",
    "* urm_p_mr: urm_p with multi-item relations\n"
   ]
  },
  {
   "cell_type": "markdown",
   "metadata": {},
   "source": [
    "### 2.1 Create Simulation Environment"
   ]
  },
  {
   "cell_type": "code",
   "execution_count": 1,
   "metadata": {},
   "outputs": [
    {
     "name": "stdout",
     "output_type": "stream",
     "text": [
      "Namespace(balance=False, dataset='urmpmr', mr_factor=0.3, n_item=3000, n_test=10000, n_train=100000, n_user=1000, n_val=10000, nouser=False, pbias_max=0.1, pbias_min=-0.1, s=5, sim_dim=8, sim_root=False)\n"
     ]
    }
   ],
   "source": [
    "import argparse\n",
    "import data_extract as dae\n",
    "parser = argparse.ArgumentParser()\n",
    "parser = dae.add_sim_parse(parser)\n",
    "parser = dae.add_data_parse(parser)\n",
    "args = parser.parse_args(\"\")\n",
    "\n",
    "args.n_user = 1000\n",
    "args.n_item = 3000\n",
    "args.dataset = \"urmpmr\"\n",
    "args.pbias_min = -0.1\n",
    "args.pbias_max = 0.1\n",
    "args.mr_factor = 0.3\n",
    "# args.balance = True\n",
    "print(args)"
   ]
  },
  {
   "cell_type": "code",
   "execution_count": 2,
   "metadata": {},
   "outputs": [
    {
     "name": "stdout",
     "output_type": "stream",
     "text": [
      "dir \"log\" existed\n",
      "Log file path:\n",
      "log/sim.txt+++++++++++++++++++++++\n",
      "Construct simulation data\n",
      "\tdevice: cpu\n",
      "\tCreating document latent embedding\n",
      "\t\tDoc embedding sample: tensor([-0.2238, -0.2920, -0.3232, -0.2132,  0.3595, -0.0097,  0.2984,  0.4330],\n",
      "       grad_fn=<SelectBackward>)\n",
      "\tCreating user latent embedding\n",
      "\t\tUser embedding sample: tensor([-0.0508,  0.4014,  0.3101,  0.4193,  0.1632, -0.0249, -0.4665,  0.1705],\n",
      "       grad_fn=<SelectBackward>)\n",
      "generating training set\n"
     ]
    },
    {
     "name": "stderr",
     "output_type": "stream",
     "text": [
      "100%|██████████| 10010/10010 [00:00<00:00, 166419.52it/s]\n",
      "  0%|          | 0/30010 [00:00<?, ?it/s]"
     ]
    },
    {
     "name": "stdout",
     "output_type": "stream",
     "text": [
      "Guarantee min_user_hist requirement:\n",
      "Guarantee min_item_hist requirement:\n"
     ]
    },
    {
     "name": "stderr",
     "output_type": "stream",
     "text": [
      "100%|██████████| 30010/30010 [00:00<00:00, 176633.38it/s]\n",
      " 31%|███       | 18688/59980 [00:00<00:00, 185723.58it/s]"
     ]
    },
    {
     "name": "stdout",
     "output_type": "stream",
     "text": [
      "Generate the remaining data\n"
     ]
    },
    {
     "name": "stderr",
     "output_type": "stream",
     "text": [
      "100%|██████████| 59980/59980 [00:00<00:00, 169501.42it/s]"
     ]
    },
    {
     "name": "stdout",
     "output_type": "stream",
     "text": [
      "Number of click distribution: (array([0, 1, 2, 3, 4, 5]), array([  535,  5767, 16061, 21190, 13228,  3199]))\n",
      "Initialize dataset\n",
      "Slates shape: (100000, 5)\n",
      "Users shape: (100000,)\n",
      "Response shape: (100000, 5)\n",
      "Unique items: 3001\n",
      "Unique users: 1001\n",
      "User embedding is used\n",
      "generating validation set\n"
     ]
    },
    {
     "name": "stderr",
     "output_type": "stream",
     "text": [
      "\n",
      "100%|██████████| 1001/1001 [00:00<00:00, 154920.42it/s]\n",
      "100%|██████████| 3001/3001 [00:00<00:00, 125419.55it/s]\n",
      "100%|██████████| 5998/5998 [00:00<00:00, 157371.67it/s]"
     ]
    },
    {
     "name": "stdout",
     "output_type": "stream",
     "text": [
      "Guarantee min_user_hist requirement:\n",
      "Guarantee min_item_hist requirement:\n",
      "Generate the remaining data\n",
      "Number of click distribution: (array([0, 1, 2, 3, 4, 5]), array([  46,  584, 1605, 2111, 1342,  310]))\n",
      "Initialize dataset\n",
      "Slates shape: (10000, 5)\n",
      "Users shape: (10000,)\n",
      "Response shape: (10000, 5)\n",
      "Unique items: 3001\n",
      "Unique users: 1001\n",
      "User embedding is used\n",
      "save simulator and generated datasets\n"
     ]
    },
    {
     "name": "stderr",
     "output_type": "stream",
     "text": [
      "\n"
     ]
    }
   ],
   "source": [
    "from my_utils import Logger\n",
    "logger = Logger(\"log/sim.txt\")\n",
    "simulator, trainset, valset = dae.load_simulation(args, logger)"
   ]
  },
  {
   "cell_type": "markdown",
   "metadata": {},
   "source": [
    "### 2.2 Simulation Distribution Made Similar to That of Real-world Data\n",
    "\n",
    "Run 2.1 with balance=True or run the following after running 2.1 with balance=False:"
   ]
  },
  {
   "cell_type": "code",
   "execution_count": 3,
   "metadata": {},
   "outputs": [
    {
     "name": "stdout",
     "output_type": "stream",
     "text": [
      "dir \"results\" existed\n"
     ]
    },
    {
     "data": {
      "image/png": "[encoded data removed]",
      "text/plain": [
       "<Figure size 720x288 with 1 Axes>"
      ]
     },
     "metadata": {
      "needs_background": "light"
     },
     "output_type": "display_data"
    }
   ],
   "source": [
    "from plot import plot_slate_response_distribution\n",
    "%matplotlib inline\n",
    "plot_slate_response_distribution(trainset.responses)"
   ]
  },
  {
   "cell_type": "code",
   "execution_count": 4,
   "metadata": {},
   "outputs": [
    {
     "name": "stderr",
     "output_type": "stream",
     "text": [
      "100%|██████████| 17166/17166 [00:00<00:00, 147460.63it/s]\n",
      "  0%|          | 0/12830 [00:00<?, ?it/s]"
     ]
    },
    {
     "name": "stdout",
     "output_type": "stream",
     "text": [
      "Initialize dataset\n",
      "Slates shape: (100000, 5)\n",
      "Users shape: (100000, 1)\n",
      "Response shape: (100000, 5)\n",
      "Unique items: 3001\n",
      "Unique users: 1001\n",
      "User embedding is used\n",
      "Before augmentation: \n",
      "(array([0., 1., 2., 3., 4., 5.]), array([  906,  9578, 26780, 35239, 22224,  5273]))\n",
      "Augmenting data for #click == 0\n",
      "Number of new record: 17166\n",
      "Augmenting data for #click == 1\n",
      "Number of new record: 12830\n"
     ]
    },
    {
     "name": "stderr",
     "output_type": "stream",
     "text": [
      "100%|██████████| 12830/12830 [00:00<00:00, 98601.26it/s] \n",
      "100%|██████████| 4229/4229 [00:00<00:00, 119688.47it/s]\n",
      "0it [00:00, ?it/s]\n",
      "100%|██████████| 6507/6507 [00:00<00:00, 126867.93it/s]\n",
      "  0%|          | 0/14983 [00:00<?, ?it/s]"
     ]
    },
    {
     "name": "stdout",
     "output_type": "stream",
     "text": [
      "Augmenting data for #click == 2\n",
      "Number of new record: 4229\n",
      "Augmenting data for #click == 3\n",
      "Number of new record: 0\n",
      "Augmenting data for #click == 4\n",
      "Number of new record: 6507\n",
      "Augmenting data for #click == 5\n",
      "Number of new record: 14983\n"
     ]
    },
    {
     "name": "stderr",
     "output_type": "stream",
     "text": [
      "100%|██████████| 14983/14983 [00:00<00:00, 82924.39it/s]\n"
     ]
    },
    {
     "name": "stdout",
     "output_type": "stream",
     "text": [
      "After augmentation: \n",
      "(array([0., 1., 2., 3., 4., 5.]), array([18072, 22408, 31009, 35239, 28731, 20256]))\n",
      "Number of records: 155715\n"
     ]
    }
   ],
   "source": [
    "from data_loader import UserSlateResponseDataset\n",
    "trainset = UserSlateResponseDataset(trainset.slates, trainset.users, trainset.responses, args.nouser)\n",
    "trainset.balance_n_click()"
   ]
  },
  {
   "cell_type": "code",
   "execution_count": 5,
   "metadata": {},
   "outputs": [
    {
     "name": "stdout",
     "output_type": "stream",
     "text": [
      "dir \"results\" existed\n"
     ]
    },
    {
     "data": {
      "image/png": "[encoded data removed]",
      "text/plain": [
       "<Figure size 720x288 with 1 Axes>"
      ]
     },
     "metadata": {
      "needs_background": "light"
     },
     "output_type": "display_data"
    }
   ],
   "source": [
    "%matplotlib inline\n",
    "plot_slate_response_distribution(trainset.responses)"
   ]
  },
  {
   "cell_type": "markdown",
   "metadata": {},
   "source": [
    "### 2.3 Generate More Datasets from Simulator\n",
    "\n",
    "Run 2.1 first, then run:"
   ]
  },
  {
   "cell_type": "code",
   "execution_count": 6,
   "metadata": {},
   "outputs": [
    {
     "name": "stderr",
     "output_type": "stream",
     "text": [
      "100%|██████████| 10010/10010 [00:00<00:00, 105064.37it/s]\n",
      "  0%|          | 0/30010 [00:00<?, ?it/s]"
     ]
    },
    {
     "name": "stdout",
     "output_type": "stream",
     "text": [
      "Guarantee min_user_hist requirement:\n",
      "Guarantee min_item_hist requirement:\n"
     ]
    },
    {
     "name": "stderr",
     "output_type": "stream",
     "text": [
      "100%|██████████| 30010/30010 [00:00<00:00, 140374.41it/s]\n",
      " 25%|██▍       | 14976/59980 [00:00<00:00, 149011.94it/s]"
     ]
    },
    {
     "name": "stdout",
     "output_type": "stream",
     "text": [
      "Generate the remaining data\n"
     ]
    },
    {
     "name": "stderr",
     "output_type": "stream",
     "text": [
      "100%|██████████| 59980/59980 [00:00<00:00, 138542.97it/s]"
     ]
    },
    {
     "name": "stdout",
     "output_type": "stream",
     "text": [
      "Number of click distribution: (array([0, 1, 2, 3, 4, 5]), array([  534,  5613, 15966, 21369, 13395,  3103]))\n"
     ]
    },
    {
     "name": "stderr",
     "output_type": "stream",
     "text": [
      "\n"
     ]
    }
   ],
   "source": [
    "users, slates, responses = simulator.generate_dataset(min_user_hist = 10, min_item_hist = 10, n_record = args.n_train)"
   ]
  },
  {
   "cell_type": "markdown",
   "metadata": {},
   "source": [
    "### 2.4 Directly Interact with the Environment"
   ]
  },
  {
   "cell_type": "code",
   "execution_count": 7,
   "metadata": {},
   "outputs": [
    {
     "data": {
      "text/plain": [
       "tensor([[0.4475, 0.4189, 0.3619, 0.3825, 0.4109],\n",
       "        [0.6587, 0.5504, 0.3752, 0.8137, 0.4745],\n",
       "        [0.2670, 0.4182, 0.5624, 0.2035, 0.5300],\n",
       "        [0.6893, 0.3789, 0.0226, 0.3548, 0.7511]], grad_fn=<AddBackward0>)"
      ]
     },
     "execution_count": 7,
     "metadata": {},
     "output_type": "execute_result"
    }
   ],
   "source": [
    "import torch\n",
    "import numpy as np\n",
    "slates = torch.tensor([np.arange(5), np.arange(5)+5, np.arange(5)+10, np.arange(5)+15])\n",
    "users = torch.tensor([0,1,2,4])\n",
    "simulator.forward(slates, users)"
   ]
  },
  {
   "cell_type": "code",
   "execution_count": 8,
   "metadata": {},
   "outputs": [
    {
     "name": "stderr",
     "output_type": "stream",
     "text": [
      "100%|██████████| 4/4 [00:00<00:00, 1418.55it/s]\n"
     ]
    },
    {
     "data": {
      "text/plain": [
       "tensor([[0, 0, 0, 0, 0],\n",
       "        [1, 1, 0, 1, 0],\n",
       "        [0, 0, 1, 0, 1],\n",
       "        [1, 0, 0, 0, 1]])"
      ]
     },
     "execution_count": 8,
     "metadata": {},
     "output_type": "execute_result"
    }
   ],
   "source": [
    "simulator.generate_response_for_dataset(users, slates)"
   ]
  },
  {
   "cell_type": "code",
   "execution_count": null,
   "metadata": {},
   "outputs": [],
   "source": []
  }
 ],
 "metadata": {
  "kernelspec": {
   "display_name": "GenSlate",
   "language": "python",
   "name": "genslate"
  },
  "language_info": {
   "codemirror_mode": {
    "name": "ipython",
    "version": 3
   },
   "file_extension": ".py",
   "mimetype": "text/x-python",
   "name": "python",
   "nbconvert_exporter": "python",
   "pygments_lexer": "ipython3",
   "version": "3.6.13"
  }
 },
 "nbformat": 4,
 "nbformat_minor": 2
}
